{
  "nbformat": 4,
  "nbformat_minor": 0,
  "metadata": {
    "colab": {
      "name": "CCDC.ipynb",
      "provenance": []
    },
    "kernelspec": {
      "name": "python3",
      "display_name": "Python 3"
    }
  },
  "cells": [
    {
      "cell_type": "code",
      "metadata": {
        "id": "XYWluR_iOeZC"
      },
      "source": [
        "import itertools as it"
      ],
      "execution_count": null,
      "outputs": []
    },
    {
      "cell_type": "code",
      "metadata": {
        "id": "v1pqykZPju_1"
      },
      "source": [
        "class Node:\n",
        "    def __init__(self, id, sons=[], dads=[]):\n",
        "        self.id = id\n",
        "        self.sons  = sons\n",
        "        self.dads = dads\n",
        "\n",
        "    def __str__(self):\n",
        "        #return \"From str method of Node: a is %s, b is %s\" % (self.a, self.b)\n",
        "        return str(self.id)\n",
        "       # return \"test affichage\""
      ],
      "execution_count": null,
      "outputs": []
    },
    {
      "cell_type": "code",
      "metadata": {
        "id": "0-zlEmqV9S5-"
      },
      "source": [
        "def print_tree(tree):\n",
        "  if tree == [] :\n",
        "    print(\"empty tree\")\n",
        "  else:\n",
        "    for i in tree:\n",
        "      print(\"base : \")\n",
        "      print(i[0])\n",
        "      for j in i[1::]:\n",
        "        print_arbre(j)\n",
        "        #for x in j:\n",
        "         #   print(x)\n"
      ],
      "execution_count": null,
      "outputs": []
    },
    {
      "cell_type": "code",
      "metadata": {
        "id": "9C6z8HTCLK6k"
      },
      "source": [
        "def print_arbre(L):\n",
        "  k=0\n",
        "  decal=0\n",
        "  for i in L:\n",
        "    if k==0:\n",
        "      print(i)\n",
        "      k=decal+1\n",
        "      decal = decal+1\n",
        "    else:\n",
        "      print(i,end='')\n",
        "      k=k-1\n"
      ],
      "execution_count": null,
      "outputs": []
    },
    {
      "cell_type": "code",
      "metadata": {
        "id": "ED2Di4SjUc_I"
      },
      "source": [
        " E = [('A',3),('B',4),('C',2),('A',4),('B',2),('C',5)]\n",
        "\n",
        "# methodes de parcours/ transformation\n",
        "\n",
        "# methode pour recuperer une liste d'event [A,B,C] a partir de la liste avec les tuples\n",
        "def get_events(E):\n",
        "  check_val = set()      #Check Flag\n",
        "  res = []\n",
        "  for i in E:\n",
        "      if i[0] not in check_val:\n",
        "          res.append(i)\n",
        "          check_val.add(i[0])\n",
        "  events = [a_tuple[0] for a_tuple in res]\n",
        "  return events\n",
        "\n"
      ],
      "execution_count": null,
      "outputs": []
    },
    {
      "cell_type": "code",
      "metadata": {
        "id": "nN2LeMzMDTaj"
      },
      "source": [
        "#renvoie base de contraintes pour une paire donnée \n",
        "\n",
        "def get_base(E,C,limite_ecarts):\n",
        "  instance_eventA = []\n",
        "  instance_eventB = []\n",
        "  for i in E:\n",
        "    if C[0]in i :\n",
        "      instance_eventA.append(i)\n",
        "    if C[1] in i:\n",
        "      instance_eventB.append(i)\n",
        "  ecarts = []\n",
        "  for x in instance_eventA:\n",
        "    for y in instance_eventB:\n",
        "      e = y[1] - x[1]\n",
        "      #calcul de touts les écarts + tri\n",
        "      if abs(e) < limite_ecarts:\n",
        "        ecarts.append(y[1] - x[1])\n",
        "  tries = sorted(list(set(ecarts)))\n",
        "  tree = []\n",
        "  #print(tries)\n",
        "  if (len(tries) ==1) :\n",
        "    # renvoyer arbre avec un seul noeud doublé #question: tries de taille 1 : ca veut dire que ya qu'un seul arbre ?? ou ca veut dire qu'il y a un seul écart ??\n",
        "    tree.append(Node([tries[0],tries[0]],[],[]))\n",
        "  elif (len(tries) ==2) :\n",
        "    tree.append(Node([tries[0],tries[1]],[],[]))\n",
        "  else : \n",
        "    arbre(tree,tries)\n",
        "    \n",
        "  return tree\n",
        "\n"
      ],
      "execution_count": null,
      "outputs": []
    },
    {
      "cell_type": "code",
      "metadata": {
        "id": "_pk4U-aCekcn"
      },
      "source": [
        "#graph : liste de noeuds ordonnés en largeur d'abord, étage par étage (de gauche à droite, puis de haut en bas)\n",
        "\n",
        "def not_exists(tree, id):\n",
        "  found = False\n",
        "  L = len(tree)\n",
        "  k = 0\n",
        "  while k<L and not(found):\n",
        "    N = tree[k]\n",
        "\n",
        "    if(N.id == id):\n",
        "      found = True\n",
        "\n",
        "    k = k+1\n",
        "  return not(found)"
      ],
      "execution_count": null,
      "outputs": []
    },
    {
      "cell_type": "code",
      "metadata": {
        "id": "lZBM8R-XeoNP"
      },
      "source": [
        "#finie\n",
        "def add_son(tree, id_dad, id_son):\n",
        "  k = len(tree)\n",
        "  found = False\n",
        "  while not(found) and k!=0 :\n",
        "    if(tree[k-1].id == id_dad):\n",
        "      tree[k-1].sons.append(id_son)\n",
        "    k = k-1\n",
        "  \n",
        "  "
      ],
      "execution_count": null,
      "outputs": []
    },
    {
      "cell_type": "code",
      "metadata": {
        "id": "WOMwiTkberfx"
      },
      "source": [
        "#finie\n",
        "def find_dads(tree, id):\n",
        "  dads = []\n",
        "  if tree != []:\n",
        "    found = False\n",
        "    first_found = False\n",
        "    k = len(tree)\n",
        "    while not(found) and k!=0 :\n",
        "      k = k-1\n",
        "      id_dad = tree[k].id #maybe\n",
        "      [x_dad,y_dad] = id_dad\n",
        "      [x,y] = id\n",
        "\n",
        "      if(x>=x_dad) and (y<=y_dad):\n",
        "        dads.append(id_dad)\n",
        "        add_son(tree, id_dad, id)\n",
        "        if(first_found):\n",
        "          found = True\n",
        "        else:\n",
        "          first_found = True\n",
        "      else:\n",
        "        if(first_found):\n",
        "          found = True\n",
        "  return dads"
      ],
      "execution_count": null,
      "outputs": []
    },
    {
      "cell_type": "code",
      "metadata": {
        "id": "QfZk6rFCSk1B"
      },
      "source": [
        "#finie\n",
        "def new_node(tree,id):\n",
        "  if not_exists(tree, id):\n",
        "    [x,y]=id\n",
        "    sons = []\n",
        "    dads = find_dads(tree, id)\n",
        "    N = Node(id, sons, dads)\n",
        "    tree.append(N)"
      ],
      "execution_count": null,
      "outputs": []
    },
    {
      "cell_type": "code",
      "metadata": {
        "id": "BlUo85GuMSxK"
      },
      "source": [
        "# construit une base de contraintes ordonnée à partir de la liste de tout les écarts\n",
        "\n",
        "#L : liste des écarts \n",
        "# if len(L) == 1 : déjà traité avant !!!\n",
        "def arbre(tree,L):\n",
        "  for k in range(len(L),1,-1):\n",
        "    #pour k = len-1 (premier etage en dessous de la racine)\n",
        "    # i va de 0 à 1 : deux iterations => 2 fils\n",
        "    for i in range(0, len(L)-k+1):\n",
        "      x = L[i]\n",
        "      y = L[i+k-1]\n",
        "      paire = [x,y]\n",
        "      new_node(tree, paire)\n",
        "  \n",
        "  \n",
        "  #arbre tree construit"
      ],
      "execution_count": null,
      "outputs": []
    },
    {
      "cell_type": "code",
      "metadata": {
        "id": "gd-fSS93I8Ev"
      },
      "source": [
        "def CCDC(E,lim):\n",
        "  base = []\n",
        " #itere sur toutes les paires d'event ordonnés lexi ex : ['A','B']\n",
        "  events = get_events(E)\n",
        "  events.sort()\n",
        "  for comb in it.combinations(events,2) :\n",
        "    #print(comb)\n",
        "    B = get_base(E,comb,lim)\n",
        "    base.append([comb,B])\n",
        "\n",
        "  return base\n",
        "    \n"
      ],
      "execution_count": null,
      "outputs": []
    },
    {
      "cell_type": "code",
      "metadata": {
        "id": "8X31OaPtcimL"
      },
      "source": [
        "def get_comb_gaps(E, events_comb, lim, gaps):\n",
        "     instance_eventA = []\n",
        "     instance_eventB = []\n",
        "     for i in E:\n",
        "       if events_comb[0] in i :\n",
        "         instance_eventA.append(i)\n",
        "       if events_comb[1] in i:\n",
        "         instance_eventB.append(i)\n",
        "\n",
        "     for x in instance_eventA:\n",
        "       for y in instance_eventB:\n",
        "         e = y[1] - x[1]\n",
        "         #calcul de touts les écarts + tri\n",
        "         if abs(e) < lim:\n",
        "           gaps.append(y[1] - x[1])\n",
        "     return gaps"
      ],
      "execution_count": null,
      "outputs": []
    },
    {
      "cell_type": "code",
      "metadata": {
        "id": "HLe9E89lcluq"
      },
      "source": [
        "def get_gaps(E, lim, gaps_dict):\n",
        "    events = get_events(E)\n",
        "    events.sort()\n",
        "    for comb in it.combinations(events,2) :\n",
        "        key = comb[0] + comb[1]\n",
        "        if not comb in gaps_dict:\n",
        "            gaps_dict[comb] = get_comb_gaps(E, comb, lim, [])\n",
        "        else:\n",
        "            get_comb_gaps(E, comb, lim, gaps_dict[comb])"
      ],
      "execution_count": null,
      "outputs": []
    },
    {
      "cell_type": "code",
      "metadata": {
        "id": "OGCZZqYxco9C"
      },
      "source": [
        "def generate_trees(gaps_dict):\n",
        "    trees = []\n",
        "\n",
        "    for comb in gaps_dict:\n",
        "        tries = sorted(list(set(gaps_dict[comb])))\n",
        "        tree = []\n",
        "        #print(tries)\n",
        "        if (len(tries) ==1) :\n",
        "          # renvoyer arbre avec un seul noeud doublé #question: tries de taille 1 : ca veut dire que ya qu'un seul arbre ?? ou ca veut dire qu'il y a un seul écart ??\n",
        "          tree.append(Node([tries[0],tries[0]],[],[]))\n",
        "        elif (len(tries) ==2) :\n",
        "          tree.append(Node([tries[0],tries[1]],[],[]))\n",
        "        else :\n",
        "          arbre(tree,tries)\n",
        "        trees.append([comb,tree])\n",
        "\n",
        "    return trees"
      ],
      "execution_count": null,
      "outputs": []
    },
    {
      "cell_type": "code",
      "metadata": {
        "id": "ZJLMT-AvSRb-",
        "outputId": "67aabff9-f839-4046-f664-deea19577b47",
        "colab": {
          "base_uri": "https://localhost:8080/",
          "height": 272
        }
      },
      "source": [
        "base = CCDC(E,50)\n",
        "print_tree(base)"
      ],
      "execution_count": null,
      "outputs": [
        {
          "output_type": "stream",
          "text": [
            "base : \n",
            "('A', 'B')\n",
            "[-2, 1]\n",
            "[-2, 0][-1, 1]\n",
            "[-2, -1][-1, 0][0, 1]\n",
            "base : \n",
            "('A', 'C')\n",
            "[-2, 2]\n",
            "[-2, 1][-1, 2]\n",
            "[-2, -1][-1, 1][1, 2]\n",
            "base : \n",
            "('B', 'C')\n",
            "[-2, 3]\n",
            "[-2, 1][0, 3]\n",
            "[-2, 0][0, 1][1, 3]\n"
          ],
          "name": "stdout"
        }
      ]
    }
  ]
}